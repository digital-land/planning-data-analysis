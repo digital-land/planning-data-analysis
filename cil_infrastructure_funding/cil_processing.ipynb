{
 "cells": [
  {
   "cell_type": "code",
   "execution_count": 1,
   "metadata": {},
   "outputs": [
    {
     "name": "stderr",
     "output_type": "stream",
     "text": [
      "C:\\Users\\DanielGodden\\AppData\\Local\\Temp\\ipykernel_24288\\3317807211.py:33: SettingWithCopyWarning: \n",
      "A value is trying to be set on a copy of a slice from a DataFrame.\n",
      "Try using .loc[row_indexer,col_indexer] = value instead\n",
      "\n",
      "See the caveats in the documentation: https://pandas.pydata.org/pandas-docs/stable/user_guide/indexing.html#returning-a-view-versus-a-copy\n",
      "  df_ref['org_code'] = df_ref['official-name']\n"
     ]
    }
   ],
   "source": [
    "import pandas as pd\n",
    "import numpy as np\n",
    "\n",
    "def cil_process(df, df_ref):\n",
    "    # Define values to drop \n",
    "    doc_type_values_to_drop = [np.nan, 'OTHER']\n",
    "\n",
    "    # Drop rows \n",
    "    df = df[~df[\"document type\"].isin(doc_type_values_to_drop) & df[\"document type\"].notna()]\n",
    "    df = df[~df[\"document-url\"].isin(doc_type_values_to_drop) & df[\"document-url\"].notna()]\n",
    "    #df = df[~df[\"documentation-url\"].isin(doc_type_values_to_drop) & df[\"documentation-url\"].notna()]\n",
    "    #df = df[df[\"documentation-url\"].str.startswith(\"http\", na=False)]\n",
    "    \n",
    "    # Drop rows where the value in any column is \"No CIL\"\n",
    "    df = df[df[\"adopted-date\"] != \"No CIL\"]\n",
    "\n",
    "    # Strip `None` and \"Cannot find a page\", leaving cells blank\n",
    "    df = df.replace([None, \"Cannot find a page\"], \"\")\n",
    "\n",
    "    # Set `adopted-date` to blank if it contains \"N/A\" or is None\n",
    "    df['adopted-date'] = df['adopted-date'].replace([\"N/A\", None], \"\")\n",
    "\n",
    "    # Copy \"On hold\" or \"In Discussion\" to `notes` and set `adopted-date` to blank\n",
    "    mask = df['adopted-date'].isin(['On hold', 'In Discussion'])\n",
    "    df.loc[mask, 'notes'] = df.loc[mask, 'adopted-date']\n",
    "    df.loc[mask, 'adopted-date'] = \"\"\n",
    "\n",
    "    # Only select relevant columns from df_ref\n",
    "    df_ref = df_ref[[\"local-authority-code\", \"official-name\"]]\n",
    "\n",
    "    # Extract the codes from both df0 and df1\n",
    "    df['org_code'] = df['organisation']\n",
    "    df_ref['org_code'] = df_ref['official-name']\n",
    "\n",
    "    # Perform a left merge and replace organisation with extracted 3-letter codes\n",
    "    df = pd.merge(df, df_ref, on='org_code', how='left')\n",
    "    df['organisation'] = df['local-authority-code']\n",
    "\n",
    "    # Prepend 'local-authority:' to each entry in the 'organisation' column\n",
    "    df['organisation'] = \"local-authority: \" + df['organisation']\n",
    "\n",
    "    # Drop reduntant columns\n",
    "    df = df.drop(columns=['local-authority-code', 'official-name', 'org_code'])\n",
    "\n",
    "    # Create and save CIL dataset\n",
    "    cil_df = df[df[\"document type\"]==\"CIL\"]\n",
    "    cil_df.to_csv('cil_dataset.csv', index=False)\n",
    "\n",
    "    # Create and save IFS dataset\n",
    "    ifs_df = df[df[\"document type\"]==\"IFS\"]\n",
    "    ifs_df.to_csv('ifs_dataset.csv', index=False)\n",
    "\n",
    "\n",
    "# Load dataset\n",
    "df = pd.read_csv(\"CIL_schedule_documents - Sheet1.csv\")\n",
    "# Load the organisation reference data\n",
    "df_ref = pd.read_csv(\"C:/Users/DanielGodden/Documents/planning_data/local_plan_data_collection/documents/uk_local_authorities_future.csv\")\n",
    "\n",
    "cil_process(df, df_ref)\n",
    "\n"
   ]
  },
  {
   "cell_type": "code",
   "execution_count": null,
   "metadata": {},
   "outputs": [],
   "source": []
  }
 ],
 "metadata": {
  "kernelspec": {
   "display_name": ".venv",
   "language": "python",
   "name": "python3"
  },
  "language_info": {
   "codemirror_mode": {
    "name": "ipython",
    "version": 3
   },
   "file_extension": ".py",
   "mimetype": "text/x-python",
   "name": "python",
   "nbconvert_exporter": "python",
   "pygments_lexer": "ipython3",
   "version": "3.11.9"
  }
 },
 "nbformat": 4,
 "nbformat_minor": 2
}
